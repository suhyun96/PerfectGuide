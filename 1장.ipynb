{
  "nbformat": 4,
  "nbformat_minor": 0,
  "metadata": {
    "colab": {
      "name": "Untitled2.ipynb",
      "provenance": [],
      "authorship_tag": "ABX9TyOR5NrAKOq83hn9FSnQajin",
      "include_colab_link": true
    },
    "kernelspec": {
      "name": "python3",
      "display_name": "Python 3"
    },
    "language_info": {
      "name": "python"
    }
  },
  "cells": [
    {
      "cell_type": "markdown",
      "metadata": {
        "id": "view-in-github",
        "colab_type": "text"
      },
      "source": [
        "<a href=\"https://colab.research.google.com/github/suhyun96/PerfectGuide/blob/master/1%EC%9E%A5.ipynb\" target=\"_parent\"><img src=\"https://colab.research.google.com/assets/colab-badge.svg\" alt=\"Open In Colab\"/></a>"
      ]
    },
    {
      "cell_type": "code",
      "execution_count": 1,
      "metadata": {
        "id": "eFSIgqG9Y4IH"
      },
      "outputs": [],
      "source": [
        "import numpy as np\n"
      ]
    },
    {
      "cell_type": "code",
      "source": [
        "a = np.arange(12)\n",
        "a.shape=(2,6)\n",
        "a"
      ],
      "metadata": {
        "colab": {
          "base_uri": "https://localhost:8080/"
        },
        "id": "PdtZav2UZUZ_",
        "outputId": "2acb6b6c-5b19-4c5d-d1ed-0772d6a270e8"
      },
      "execution_count": 8,
      "outputs": [
        {
          "output_type": "execute_result",
          "data": {
            "text/plain": [
              "array([[ 0,  1,  2,  3,  4,  5],\n",
              "       [ 6,  7,  8,  9, 10, 11]])"
            ]
          },
          "metadata": {},
          "execution_count": 8
        }
      ]
    },
    {
      "cell_type": "markdown",
      "source": [
        "np.sort(A, axis=0) -> 열만\n",
        "\n",
        "np.sort(A, axis=1) -> 행만 \n",
        "\n",
        "axis => 0이면 y ,, 1이면 x \n"
      ],
      "metadata": {
        "id": "2YN012smZoYe"
      }
    },
    {
      "cell_type": "code",
      "source": [
        "a=[[8,12],[7,1]]\n",
        "a= np.sort(a,axis=0)\n",
        "a"
      ],
      "metadata": {
        "colab": {
          "base_uri": "https://localhost:8080/"
        },
        "id": "YTRjBhuNZnzr",
        "outputId": "571d69ac-2604-4362-a506-508d741ede37"
      },
      "execution_count": 14,
      "outputs": [
        {
          "output_type": "execute_result",
          "data": {
            "text/plain": [
              "array([[ 7,  1],\n",
              "       [ 8, 12]])"
            ]
          },
          "metadata": {},
          "execution_count": 14
        }
      ]
    },
    {
      "cell_type": "code",
      "source": [
        "a=np.sort(a,axis=1)\n",
        "a"
      ],
      "metadata": {
        "colab": {
          "base_uri": "https://localhost:8080/"
        },
        "id": "YjgzbGlBZaCu",
        "outputId": "ab851c53-abcc-454e-b713-b803fb8a4659"
      },
      "execution_count": 15,
      "outputs": [
        {
          "output_type": "execute_result",
          "data": {
            "text/plain": [
              "array([[ 1,  7],\n",
              "       [ 8, 12]])"
            ]
          },
          "metadata": {},
          "execution_count": 15
        }
      ]
    },
    {
      "cell_type": "markdown",
      "source": [
        "argsort()\n",
        "\n",
        "정렬을 하는데 sort하고 그 해당 인덱스를 반환 \n",
        "\n",
        "즉 0 ,1 ,2 ,3 이게 인덱스인데 sort하면 원소들 위치가 바뀜 근데 그 원래 원소들의 인덱스를 반환 "
      ],
      "metadata": {
        "id": "F5qffhK_agR6"
      }
    },
    {
      "cell_type": "code",
      "source": [
        ""
      ],
      "metadata": {
        "id": "2DT4pT5SaEyX"
      },
      "execution_count": null,
      "outputs": []
    }
  ]
}